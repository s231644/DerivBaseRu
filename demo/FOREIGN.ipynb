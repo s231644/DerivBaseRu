{
 "cells": [
  {
   "cell_type": "code",
   "execution_count": 1,
   "metadata": {},
   "outputs": [],
   "source": [
    "import sys\n",
    "sys.path.append(\"../\") # go to parent dir"
   ]
  },
  {
   "cell_type": "code",
   "execution_count": 2,
   "metadata": {},
   "outputs": [],
   "source": [
    "from src.FinateStateMachine import FSM"
   ]
  },
  {
   "cell_type": "code",
   "execution_count": 3,
   "metadata": {},
   "outputs": [],
   "source": [
    "from src.compound_analyzer import CompoundAnalyzer"
   ]
  },
  {
   "cell_type": "code",
   "execution_count": 4,
   "metadata": {},
   "outputs": [],
   "source": [
    "roots = []\n",
    "with open(\"../data/rusgram_roots.txt\") as f:\n",
    "    for l in f:\n",
    "        l = l.split()[0]\n",
    "        l = \"\".join(list(filter(lambda x: x in \"-ёйцукенгшщзхъфывапролджэячсмитьбю\", l)))\n",
    "        roots.append(l)\n",
    "roots = sorted(set(roots))"
   ]
  },
  {
   "cell_type": "code",
   "execution_count": 5,
   "metadata": {},
   "outputs": [],
   "source": [
    "roots_r = list(map(lambda x: x.replace('-', ''), filter(lambda x: x.startswith('-'), roots)))\n",
    "roots_l = list(map(lambda x: x.replace('-', ''), filter(lambda x: x.endswith('-'), roots)))"
   ]
  },
  {
   "cell_type": "code",
   "execution_count": 6,
   "metadata": {},
   "outputs": [
    {
     "name": "stdout",
     "output_type": "stream",
     "text": [
      "['авиа', 'авто', 'агло', 'агро', 'аква', 'аллерго', 'англо', 'анти', 'антропо', 'арифмо', 'астро', 'атто', 'аудио', 'аэро', 'баро', 'бензо', 'библио', 'био', 'блиц', 'вело', 'верто', 'вибро', 'видео', 'гальвано', 'гекто', 'гелио', 'гео', 'гермо', 'гига', 'гигро', 'гидро', 'гипо', 'графо', 'дека', 'дендро', 'деци', 'диапо', 'зепто', 'зетта', 'зоо', 'изо', 'иммуно', 'иокто', 'иотта', 'кардио', 'квази', 'кило', 'космо', 'кримино', 'макро', 'макси', 'мега', 'метео', 'микро', 'милли', 'мини', 'моно', 'мото', 'нано', 'нарко', 'невро', 'нейро', 'нео', 'нитро', 'пета', 'пико', 'пиро', 'пневмо', 'поли', 'псевдо', 'психо', 'радио', 'русо', 'санти', 'сейсмо', 'сексо', 'социо', 'стерео', 'страто', 'теле', 'тера', 'термо', 'техно', 'типо', 'троллей', 'турбо', 'ультра', 'фемто', 'физио', 'фоно', 'фото', 'хромо', 'хроно', 'эвако', 'экса', 'электро', 'энерго']\n"
     ]
    }
   ],
   "source": [
    "print(roots_l)"
   ]
  },
  {
   "cell_type": "code",
   "execution_count": 7,
   "metadata": {},
   "outputs": [
    {
     "name": "stdout",
     "output_type": "stream",
     "text": [
      "['бол', 'бус', 'гамия', 'грамма', 'граф', 'дром', 'кар', 'лиз', 'лог', 'локация', 'ман', 'мер', 'метр', 'мобиль', 'навт', 'пат', 'план', 'рама', 'роб', 'скоп', 'стан', 'стат', 'тека', 'трон', 'фил', 'фоб', 'фон']\n"
     ]
    }
   ],
   "source": [
    "print(roots_r)"
   ]
  },
  {
   "cell_type": "markdown",
   "metadata": {},
   "source": [
    "# F-F"
   ]
  },
  {
   "cell_type": "code",
   "execution_count": 45,
   "metadata": {},
   "outputs": [],
   "source": [
    "foreign_L = FSM({\"FOREIGN-L\"})\n",
    "foreign_R = FSM({\"FOREIGN-R\"})\n",
    "\n",
    "for word in roots_l:\n",
    "    foreign_L.add_word(\n",
    "        list(word) + [\"FOREIGN-L\", (word, \"FOREIGN-L\")]\n",
    "    )\n",
    "    \n",
    "for word in roots_r:\n",
    "    foreign_R.add_word(\n",
    "        list(word) + [\"FOREIGN-R\", (word, \"FOREIGN-R\")]\n",
    "    )"
   ]
  },
  {
   "cell_type": "code",
   "execution_count": 46,
   "metadata": {},
   "outputs": [],
   "source": [
    "foreign_ia_R = FSM({\"rule578*(noun + иj(а) -> noun)\"})\n",
    "\n",
    "for word in roots_r:\n",
    "    foreign_ia_R.add_word(\n",
    "        list(word + \"ия\") + [\"rule578*(noun + иj(а) -> noun)\", (word, \"FOREIGN-R\")]\n",
    "    )"
   ]
  },
  {
   "cell_type": "code",
   "execution_count": 47,
   "metadata": {},
   "outputs": [],
   "source": [
    "cas = {}"
   ]
  },
  {
   "cell_type": "code",
   "execution_count": null,
   "metadata": {},
   "outputs": [],
   "source": []
  },
  {
   "cell_type": "code",
   "execution_count": 48,
   "metadata": {},
   "outputs": [],
   "source": [
    "ff_rule = \"rule550(FOREIGN + FOREIGN -> noun)\"\n",
    "\n",
    "ca_ff = CompoundAnalyzer(ff_rule, \"noun\", foreign_L, foreign_R)\n",
    "cas[ff_rule] = ca_ff"
   ]
  },
  {
   "cell_type": "code",
   "execution_count": null,
   "metadata": {},
   "outputs": [],
   "source": []
  },
  {
   "cell_type": "code",
   "execution_count": 49,
   "metadata": {},
   "outputs": [],
   "source": [
    "noun_R = FSM({\"noun\"})\n",
    "\n",
    "nouns = []\n",
    "for l in open(\"../data/wiktionary/noun.txt\"):\n",
    "    l = l.strip()\n",
    "    nouns.append(l)\n",
    "    noun_R.add_word(\n",
    "        list(l.lower()) + [\"noun\", (l, \"noun\")]\n",
    "    )"
   ]
  },
  {
   "cell_type": "code",
   "execution_count": null,
   "metadata": {},
   "outputs": [],
   "source": []
  },
  {
   "cell_type": "markdown",
   "metadata": {},
   "source": [
    "# F-N\n",
    "\n",
    "В качестве левого автомата использовать foreign_L, а качестве правого --- noun."
   ]
  },
  {
   "cell_type": "code",
   "execution_count": 50,
   "metadata": {},
   "outputs": [],
   "source": [
    "fn_rule = \"rule550(FOREIGN + noun -> noun)\"\n",
    "\n",
    "\n",
    "ca_fn = CompoundAnalyzer(fn_rule, \"noun\", foreign_L, noun_R)\n",
    "cas[fn_rule] = ca_fn"
   ]
  },
  {
   "cell_type": "code",
   "execution_count": null,
   "metadata": {},
   "outputs": [],
   "source": []
  },
  {
   "cell_type": "code",
   "execution_count": null,
   "metadata": {},
   "outputs": [],
   "source": []
  },
  {
   "cell_type": "markdown",
   "metadata": {},
   "source": [
    "# 558"
   ]
  },
  {
   "cell_type": "code",
   "execution_count": 51,
   "metadata": {},
   "outputs": [],
   "source": [
    "ffia_rule = \"rule578(FOREIGN + FOREIGN + иj(а) -> noun)\"\n",
    "cas[ffia_rule] = CompoundAnalyzer(ffia_rule, \"noun\", foreign_L, foreign_ia_R)"
   ]
  },
  {
   "cell_type": "code",
   "execution_count": null,
   "metadata": {},
   "outputs": [],
   "source": []
  },
  {
   "cell_type": "code",
   "execution_count": null,
   "metadata": {},
   "outputs": [],
   "source": []
  },
  {
   "cell_type": "code",
   "execution_count": null,
   "metadata": {},
   "outputs": [],
   "source": []
  },
  {
   "cell_type": "markdown",
   "metadata": {},
   "source": [
    "# Finally"
   ]
  },
  {
   "cell_type": "code",
   "execution_count": 52,
   "metadata": {},
   "outputs": [
    {
     "data": {
      "text/plain": [
       "{'rule550(FOREIGN + FOREIGN -> noun)': <src.compound_analyzer.CompoundAnalyzer at 0x7f1ca65c4438>,\n",
       " 'rule550(FOREIGN + noun -> noun)': <src.compound_analyzer.CompoundAnalyzer at 0x7f1ca65c4048>,\n",
       " 'rule578(FOREIGN + FOREIGN + иj(а) -> noun)': <src.compound_analyzer.CompoundAnalyzer at 0x7f1ca65c42b0>}"
      ]
     },
     "execution_count": 52,
     "metadata": {},
     "output_type": "execute_result"
    }
   ],
   "source": [
    "cas"
   ]
  },
  {
   "cell_type": "code",
   "execution_count": null,
   "metadata": {},
   "outputs": [],
   "source": []
  },
  {
   "cell_type": "code",
   "execution_count": 53,
   "metadata": {},
   "outputs": [],
   "source": [
    "def analyze_word(word, pos):\n",
    "    analyzes = []\n",
    "    for rule_name, ca in cas.items():\n",
    "        if ca.pos != pos:\n",
    "            continue        \n",
    "        analyzes.extend(ca.analyze(word, pos))\n",
    "    return analyzes"
   ]
  },
  {
   "cell_type": "code",
   "execution_count": 54,
   "metadata": {},
   "outputs": [
    {
     "data": {
      "text/plain": [
       "[('астролог',\n",
       "  'noun',\n",
       "  'rule550(FOREIGN + FOREIGN -> noun)',\n",
       "  ('астро', 'FOREIGN-L'),\n",
       "  'FOREIGN-L',\n",
       "  ('лог', 'FOREIGN-R'),\n",
       "  'FOREIGN-R'),\n",
       " ('астролог',\n",
       "  'noun',\n",
       "  'rule550(FOREIGN + noun -> noun)',\n",
       "  ('астро', 'FOREIGN-L'),\n",
       "  'FOREIGN-L',\n",
       "  ('лог', 'noun'),\n",
       "  'noun'),\n",
       " ('астролог',\n",
       "  'noun',\n",
       "  'rule550(FOREIGN + noun -> noun)',\n",
       "  ('астро', 'FOREIGN-L'),\n",
       "  'FOREIGN-L',\n",
       "  ('Лог', 'noun'),\n",
       "  'noun')]"
      ]
     },
     "execution_count": 54,
     "metadata": {},
     "output_type": "execute_result"
    }
   ],
   "source": [
    "analyze_word(\"астролог\", \"noun\")"
   ]
  },
  {
   "cell_type": "code",
   "execution_count": 55,
   "metadata": {},
   "outputs": [
    {
     "data": {
      "text/plain": [
       "[('аквадискотека',\n",
       "  'noun',\n",
       "  'rule550(FOREIGN + noun -> noun)',\n",
       "  ('аква', 'FOREIGN-L'),\n",
       "  'FOREIGN-L',\n",
       "  ('дискотека', 'noun'),\n",
       "  'noun')]"
      ]
     },
     "execution_count": 55,
     "metadata": {},
     "output_type": "execute_result"
    }
   ],
   "source": [
    "analyze_word(\"аквадискотека\", \"noun\")"
   ]
  },
  {
   "cell_type": "code",
   "execution_count": 56,
   "metadata": {},
   "outputs": [
    {
     "data": {
      "text/plain": [
       "[('астрофобия',\n",
       "  'noun',\n",
       "  'rule550(FOREIGN + noun -> noun)',\n",
       "  ('астро', 'FOREIGN-L'),\n",
       "  'FOREIGN-L',\n",
       "  ('фобия', 'noun'),\n",
       "  'noun'),\n",
       " ('астрофобия',\n",
       "  'noun',\n",
       "  'rule578(FOREIGN + FOREIGN + иj(а) -> noun)',\n",
       "  ('астро', 'FOREIGN-L'),\n",
       "  'FOREIGN-L',\n",
       "  ('фоб', 'FOREIGN-R'),\n",
       "  'rule578*(noun + иj(а) -> noun)')]"
      ]
     },
     "execution_count": 56,
     "metadata": {},
     "output_type": "execute_result"
    }
   ],
   "source": [
    "analyze_word(\"астрофобия\", \"noun\")"
   ]
  },
  {
   "cell_type": "code",
   "execution_count": null,
   "metadata": {},
   "outputs": [],
   "source": []
  }
 ],
 "metadata": {
  "kernelspec": {
   "display_name": "Python 3",
   "language": "python",
   "name": "python3"
  },
  "language_info": {
   "codemirror_mode": {
    "name": "ipython",
    "version": 3
   },
   "file_extension": ".py",
   "mimetype": "text/x-python",
   "name": "python",
   "nbconvert_exporter": "python",
   "pygments_lexer": "ipython3",
   "version": "3.6.12"
  }
 },
 "nbformat": 4,
 "nbformat_minor": 4
}
