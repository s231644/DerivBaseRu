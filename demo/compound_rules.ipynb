{
 "cells": [
  {
   "cell_type": "code",
   "execution_count": 1,
   "metadata": {},
   "outputs": [],
   "source": [
    "import json"
   ]
  },
  {
   "cell_type": "code",
   "execution_count": 2,
   "metadata": {},
   "outputs": [],
   "source": [
    "path = \"../src/rules/compounds.json\""
   ]
  },
  {
   "cell_type": "code",
   "execution_count": 3,
   "metadata": {},
   "outputs": [],
   "source": [
    "data = json.load(open(path))[\"data\"]"
   ]
  },
  {
   "cell_type": "code",
   "execution_count": 4,
   "metadata": {},
   "outputs": [],
   "source": [
    "rules = list(map(lambda x: x[\"rule_id\"], data))"
   ]
  },
  {
   "cell_type": "code",
   "execution_count": 5,
   "metadata": {},
   "outputs": [
    {
     "name": "stdout",
     "output_type": "stream",
     "text": [
      "rule550([noun + ITFX] + noun -> noun)\n",
      "rule550([adj + ITFX] + noun -> noun)\n",
      "rule550([num + ITFX] + noun -> noun)\n",
      "rule552([пол] + noun + GEN -> noun)\n",
      "rule558([noun + ITFX] + verb + тель -> noun)\n",
      "rule558([adj + ITFX] + verb + тель -> noun)\n",
      "rule559([noun + ITFX] + verb + ец/нец/енец/омец -> noun)\n",
      "rule559([adj + ITFX] + verb + ец/нец/енец/омец -> noun)\n",
      "rule559([num + ITFX] + verb + ец/нец/енец/омец -> noun)\n",
      "rule560([noun + ITFX] + verb + щик -> noun)\n",
      "rule561([noun + ITFX] + verb + льщик -> noun)\n",
      "rule562([noun + ITFX] + verb + ник/еник/енник/ик -> noun)\n",
      "rule563([noun + ITFX] + verb + к(а)/овк(а)/ёжк(а) -> noun)\n",
      "rule564([noun + ITFX] + verb + лк(а) -> noun)\n",
      "rule565([noun + ITFX] + verb + н(я)/отн(я)/овн(я) -> noun)\n",
      "rule566([noun + ITFX] + verb + ств(о) -> noun)\n",
      "rule567([noun + ITFX] + verb + ниj(е) -> noun)\n",
      "rule568([noun + ITFX] + verb + ин(а) -> noun)\n",
      "rule570([noun + ITFX] + noun + ник/атник/арник/овник -> noun)\n",
      "rule570([adj + ITFX] + noun + ник/атник/арник/овник -> noun)\n",
      "rule570([num + ITFX] + noun + ник/атник/арник/овник -> noun)\n",
      "rule571([adj + ITFX] + noun + щик/чик/овщик -> noun)\n",
      "rule572([noun + ITFX] + noun + к(а) -> noun)\n",
      "rule572([adj + ITFX] + noun + к(а) -> noun)\n",
      "rule572([num + ITFX] + noun + к(а) -> noun)\n",
      "rule573([noun + ITFX] + noun + j(е) -> noun)\n",
      "rule573([adj + ITFX] + noun + j(е) -> noun)\n",
      "rule573([num + ITFX] + noun + j(е) -> noun)\n",
      "rule576([adj + ITFX] + noun + ан-ин/чан-ин -> noun)\n",
      "rule578([noun + ITFX] + noun + иj(а) -> noun)\n",
      "rule579([noun + ITFX] + verb + 0m2 -> noun)\n",
      "rule579([adj + ITFX] + verb + 0m2 -> noun)\n",
      "rule582([noun + ITFX] + verb + 0f3 -> noun)\n",
      "rule582([adj + ITFX] + verb + 0f3 -> noun)\n",
      "rule584([noun + ITFX] + noun + 0 -> noun)\n",
      "rule584([adj + ITFX] + noun + 0 -> noun)\n",
      "rule584([num + ITFX] + noun + 0 -> noun)\n",
      "rule754([adj + ITFX] + adj -> adj)\n",
      "rule754([noun + ITFX] + adj -> adj)\n",
      "rule754([num + ITFX] + adj -> adj)\n",
      "rule754([adj + ITFX] + part -> adj)\n",
      "rule754([noun + ITFX] + part -> adj)\n",
      "rule761([noun + ITFX] + noun + н1(ый) -> adj)\n",
      "rule761([adj + ITFX] + noun + н1(ый) -> adj)\n",
      "rule761([num + ITFX] + noun + н1(ый) -> adj)\n",
      "rule762([adj + ITFX] + noun + н(ий) -> adj)\n",
      "rule762([num + ITFX] + noun + н(ий) -> adj)\n",
      "rule763([adj + ITFX] + noun + ов(ый) -> adj)\n",
      "rule763([num + ITFX] + noun + ов(ый) -> adj)\n",
      "rule764([adj + ITFX] + noun + ск(ий) -> adj)\n",
      "rule765([adj + ITFX] + noun + лив(ый)/ив(ый) -> adj)\n",
      "rule765([num + ITFX] + noun + лив(ый)/ив(ый) -> adj)\n",
      "rule767([adj + ITFX] + verb + н1(ый) -> adj)\n",
      "rule767([noun + ITFX] + verb + н1(ый) -> adj)\n",
      "rule768([noun + ITFX] + verb + тельн(ый)/ительн(ый) -> adj)\n",
      "rule769([noun + ITFX] + verb + лив(ый)/чив(ый)/ив(ый) -> adj)\n",
      "rule769([noun + ITFX] + verb + енн(ый) -> adj)\n",
      "rule772([noun + ITFX] + noun + 0(ый) -> adj)\n",
      "rule772([adj + ITFX] + noun + 0(ый) -> adj)\n",
      "rule772([num + ITFX] + noun + 0(ый) -> adj)\n",
      "rule773([adv] + verb + 0(ий) -> adj)\n",
      "rule776([adv] + adj -> adj)\n",
      "rule776([adv] + part -> adj)\n",
      "rule961([полу/само] + verb -> verb)\n",
      "rule961([noun + ITFX] + verb -> verb)\n",
      "rule961([adj + ITFX] + verb -> verb)\n",
      "rule962(noun + [фицировать] -> verb)\n",
      "rule962(adj + [фицировать] -> verb)\n",
      "rule1026([полу] + tgr -> adv)\n",
      "rule1026([полу] + adv -> adv)\n",
      "rule1027([мимо/само] + verb + ом -> adv)\n",
      "rule1028(в + [пол] + noun + GEN -> adv)\n",
      "rule1029(в + [пол/три] + adj + а -> adv)\n"
     ]
    }
   ],
   "source": [
    "print(\"\\n\".join(rules))"
   ]
  },
  {
   "cell_type": "code",
   "execution_count": 6,
   "metadata": {},
   "outputs": [
    {
     "name": "stdout",
     "output_type": "stream",
     "text": [
      "73\n"
     ]
    }
   ],
   "source": [
    "print(len(rules))"
   ]
  },
  {
   "cell_type": "code",
   "execution_count": null,
   "metadata": {},
   "outputs": [],
   "source": []
  }
 ],
 "metadata": {
  "kernelspec": {
   "display_name": "Python 3",
   "language": "python",
   "name": "python3"
  },
  "language_info": {
   "codemirror_mode": {
    "name": "ipython",
    "version": 3
   },
   "file_extension": ".py",
   "mimetype": "text/x-python",
   "name": "python",
   "nbconvert_exporter": "python",
   "pygments_lexer": "ipython3",
   "version": "3.6.12"
  }
 },
 "nbformat": 4,
 "nbformat_minor": 4
}
