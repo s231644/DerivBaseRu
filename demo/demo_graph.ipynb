{
 "cells": [
  {
   "cell_type": "markdown",
   "metadata": {},
   "source": [
    "# DerivBase.Ru Demo Graph Construction"
   ]
  },
  {
   "cell_type": "code",
   "execution_count": 2,
   "metadata": {},
   "outputs": [],
   "source": [
    "import sys\n",
    "import os\n",
    "sys.path.append(\"../\") # go to parent dir\n",
    "\n",
    "from src.Derivation import Derivation\n",
    "derivator = Derivation(use_guesser=True)"
   ]
  },
  {
   "cell_type": "code",
   "execution_count": null,
   "metadata": {},
   "outputs": [],
   "source": []
  },
  {
   "cell_type": "code",
   "execution_count": 3,
   "metadata": {},
   "outputs": [],
   "source": [
    "def load_words_by_pos(pos):\n",
    "    res = []\n",
    "    with open(os.path.join('../', 'data', 'wiktionary', f'{pos}.txt'), 'r', encoding='utf8') as f:\n",
    "        for l in f:\n",
    "            res.append(l.strip())\n",
    "    return set(res)"
   ]
  },
  {
   "cell_type": "code",
   "execution_count": null,
   "metadata": {},
   "outputs": [],
   "source": []
  },
  {
   "cell_type": "code",
   "execution_count": 4,
   "metadata": {},
   "outputs": [],
   "source": [
    "pos_all = ['noun', 'adj', 'verb', 'adv']"
   ]
  },
  {
   "cell_type": "code",
   "execution_count": 5,
   "metadata": {},
   "outputs": [],
   "source": [
    "words_by_pos = {pos: load_words_by_pos(pos) for pos in pos_all}"
   ]
  },
  {
   "cell_type": "code",
   "execution_count": null,
   "metadata": {},
   "outputs": [],
   "source": []
  },
  {
   "cell_type": "code",
   "execution_count": 6,
   "metadata": {},
   "outputs": [],
   "source": [
    "def find_connections(word_b, pos_b, pos_a):\n",
    "    connections = []\n",
    "    derived = derivator.derive(word_b, pos_b=pos_b, pos_a=pos_a, is_extended=True, use_rare=True)\n",
    "    for rule_id, derived_words in derived.items():\n",
    "        exist_in_vocabulary = words_by_pos[pos_a] & derived_words\n",
    "        connections.extend([(word_b, pos_b, word_a, pos_a, rule_id) for word_a in exist_in_vocabulary])\n",
    "    return connections\n",
    "\n",
    "def find_all_word_connections(word_b, pos_b):\n",
    "    connections = []\n",
    "    for pos_a in pos_all:\n",
    "        connections.extend(find_connections(word_b, pos_b, pos_a))\n",
    "    return connections\n",
    "\n",
    "def find_all_pos_connections(pos_b):\n",
    "    connections = []\n",
    "    for word_b in words_by_pos[pos_b]:\n",
    "        connections.extend(find_all_word_connections(word_b, pos_b))\n",
    "    return connections\n",
    "\n",
    "def find_all_connections():\n",
    "    connections = []\n",
    "    for pos_b in pos_all:\n",
    "        connections.extend(find_all_pos_connections(pos_b))\n",
    "    return connections"
   ]
  },
  {
   "cell_type": "code",
   "execution_count": null,
   "metadata": {},
   "outputs": [],
   "source": []
  },
  {
   "cell_type": "code",
   "execution_count": 13,
   "metadata": {},
   "outputs": [
    {
     "name": "stdout",
     "output_type": "stream",
     "text": [
      "[('желать', 'verb', 'желаемость', 'noun', 'rule252(verb + имость -> noun)'), ('желать', 'verb', 'желанность', 'noun', 'rule253(verb + ённость/нность/тость -> noun)'), ('желать', 'verb', 'желание', 'noun', 'rule256(verb + ниj(е) -> noun)'), ('желать', 'verb', 'желательный', 'adj', 'rule652(verb + тельн(ый)/ительн(ый) -> adj)'), ('желать', 'verb', 'желаемый', 'adj', 'rule657(verb + ом/им(ый) -> adj)'), ('желать', 'verb', 'нежелательный', 'adj', 'rule746(не + verb + тельн(ый) -> adj)'), ('желать', 'verb', 'возжелать', 'verb', 'rule856(воз + verb -> verb)'), ('желать', 'verb', 'пожелать', 'verb', 'rule871(по + verb -> verb)'), ('желать', 'verb', 'желаться', 'verb', 'rule930(verb + ся -> verb)')]\n"
     ]
    }
   ],
   "source": [
    "print(find_all_word_connections('желать', 'verb'))"
   ]
  },
  {
   "cell_type": "code",
   "execution_count": null,
   "metadata": {},
   "outputs": [],
   "source": []
  },
  {
   "cell_type": "code",
   "execution_count": 17,
   "metadata": {},
   "outputs": [
    {
     "name": "stdout",
     "output_type": "stream",
     "text": [
      "ERROR on applying rule887(об + adj + е(ть) -> verb) to бельевой!\n",
      "ERROR on applying rule887(при + adj + и1(ть) -> verb) to невидный!\n"
     ]
    },
    {
     "name": "stderr",
     "output_type": "stream",
     "text": [
      "ERROR:root:Internal Python error in the inspect module.\n",
      "Below is the traceback from this internal error.\n",
      "\n"
     ]
    },
    {
     "name": "stdout",
     "output_type": "stream",
     "text": [
      "Traceback (most recent call last):\n",
      "  File \"C:\\ProgramData\\Anaconda3\\lib\\site-packages\\IPython\\core\\interactiveshell.py\", line 3267, in run_code\n",
      "    exec(code_obj, self.user_global_ns, self.user_ns)\n",
      "  File \"<ipython-input-17-b35341c9e7f7>\", line 1, in <module>\n",
      "    find_all_pos_connections('adj')\n",
      "  File \"<ipython-input-14-018adc8fb902>\", line 18, in find_all_pos_connections\n",
      "    connections.extend(find_all_word_connections(word_b, pos_b))\n",
      "  File \"<ipython-input-14-018adc8fb902>\", line 12, in find_all_word_connections\n",
      "    connections.extend(find_connections(word_b, pos_b, pos_a))\n",
      "  File \"<ipython-input-14-018adc8fb902>\", line 3, in find_connections\n",
      "    derived = derivator.derive(word_b, pos_b=pos_b, pos_a=pos_a, is_extended=True, use_rare=True)\n",
      "  File \"..\\src\\Derivation.py\", line 97, in derive\n",
      "    tags_all = self.tag_guesser.guess(word=word_b, pos=pos_b, **kwargs)\n",
      "  File \"..\\src\\guesser\\ZaliznyakGuesser.py\", line 103, in guess\n",
      "    possible_variants.extend(self._find_possible_tags(word, pos_, **kwargs))\n",
      "  File \"..\\src\\guesser\\ZaliznyakGuesser.py\", line 63, in _find_possible_tags\n",
      "    if len(subrule.apply(word)) > 0:\n",
      "  File \"..\\src\\Rule.py\", line 46, in apply\n",
      "    results = self.compute_tree(self.tree, [word_b])\n",
      "  File \"..\\src\\Rule.py\", line 31, in compute_tree\n",
      "    new_results = self.compute_tree(tree.children[0].children[0], cur_results)\n",
      "  File \"..\\src\\Rule.py\", line 25, in compute_tree\n",
      "    new_results += eval(command)\n",
      "  File \"<string>\", line 1, in <module>\n",
      "KeyboardInterrupt\n",
      "\n",
      "During handling of the above exception, another exception occurred:\n",
      "\n",
      "Traceback (most recent call last):\n",
      "  File \"C:\\ProgramData\\Anaconda3\\lib\\site-packages\\IPython\\core\\interactiveshell.py\", line 2018, in showtraceback\n",
      "    stb = value._render_traceback_()\n",
      "AttributeError: 'KeyboardInterrupt' object has no attribute '_render_traceback_'\n",
      "\n",
      "During handling of the above exception, another exception occurred:\n",
      "\n",
      "Traceback (most recent call last):\n",
      "  File \"C:\\ProgramData\\Anaconda3\\lib\\site-packages\\IPython\\core\\ultratb.py\", line 1095, in get_records\n",
      "    return _fixed_getinnerframes(etb, number_of_lines_of_context, tb_offset)\n",
      "  File \"C:\\ProgramData\\Anaconda3\\lib\\site-packages\\IPython\\core\\ultratb.py\", line 313, in wrapped\n",
      "    return f(*args, **kwargs)\n",
      "  File \"C:\\ProgramData\\Anaconda3\\lib\\site-packages\\IPython\\core\\ultratb.py\", line 347, in _fixed_getinnerframes\n",
      "    records = fix_frame_records_filenames(inspect.getinnerframes(etb, context))\n",
      "  File \"C:\\ProgramData\\Anaconda3\\lib\\inspect.py\", line 1500, in getinnerframes\n",
      "    frameinfo = (tb.tb_frame,) + getframeinfo(tb, context)\n",
      "  File \"C:\\ProgramData\\Anaconda3\\lib\\inspect.py\", line 1462, in getframeinfo\n",
      "    lines, lnum = findsource(frame)\n",
      "  File \"C:\\ProgramData\\Anaconda3\\lib\\site-packages\\IPython\\core\\ultratb.py\", line 179, in findsource\n",
      "    lines = linecache.getlines(file, globals_dict)\n",
      "  File \"C:\\ProgramData\\Anaconda3\\lib\\linecache.py\", line 47, in getlines\n",
      "    return updatecache(filename, module_globals)\n",
      "  File \"C:\\ProgramData\\Anaconda3\\lib\\linecache.py\", line 136, in updatecache\n",
      "    with tokenize.open(fullname) as fp:\n",
      "  File \"C:\\ProgramData\\Anaconda3\\lib\\tokenize.py\", line 449, in open\n",
      "    encoding, lines = detect_encoding(buffer.readline)\n",
      "  File \"C:\\ProgramData\\Anaconda3\\lib\\tokenize.py\", line 418, in detect_encoding\n",
      "    first = read_or_stop()\n",
      "  File \"C:\\ProgramData\\Anaconda3\\lib\\tokenize.py\", line 376, in read_or_stop\n",
      "    return readline()\n",
      "KeyboardInterrupt\n"
     ]
    },
    {
     "ename": "KeyboardInterrupt",
     "evalue": "",
     "output_type": "error",
     "traceback": [
      "\u001b[1;31m---------------------------------------------------------------------------\u001b[0m"
     ]
    }
   ],
   "source": [
    "find_all_pos_connections('adj')"
   ]
  },
  {
   "cell_type": "code",
   "execution_count": null,
   "metadata": {},
   "outputs": [],
   "source": []
  },
  {
   "cell_type": "code",
   "execution_count": 7,
   "metadata": {},
   "outputs": [],
   "source": [
    "derived = derivator.derive('быстро', pos_b='adv', is_extended=True, use_rare=True)"
   ]
  },
  {
   "cell_type": "code",
   "execution_count": 8,
   "metadata": {},
   "outputs": [
    {
     "data": {
      "text/plain": [
       "{}"
      ]
     },
     "execution_count": 8,
     "metadata": {},
     "output_type": "execute_result"
    }
   ],
   "source": [
    "derived"
   ]
  },
  {
   "cell_type": "code",
   "execution_count": null,
   "metadata": {},
   "outputs": [],
   "source": []
  }
 ],
 "metadata": {
  "kernelspec": {
   "display_name": "Python 3",
   "language": "python",
   "name": "python3"
  },
  "language_info": {
   "codemirror_mode": {
    "name": "ipython",
    "version": 3
   },
   "file_extension": ".py",
   "mimetype": "text/x-python",
   "name": "python",
   "nbconvert_exporter": "python",
   "pygments_lexer": "ipython3",
   "version": "3.6.12"
  }
 },
 "nbformat": 4,
 "nbformat_minor": 2
}
